{
 "cells": [
  {
   "cell_type": "code",
   "execution_count": 1,
   "metadata": {},
   "outputs": [],
   "source": [
    "import logging\n",
    "from typing import List, Callable, Optional, Any\n",
    "\n",
    "import numpy as np\n",
    "import matplotlib.pyplot as plt\n",
    "from matplotlib import rc\n",
    "from sklearn.decomposition import PCA\n",
    "\n",
    "\n",
    "from pynamics import downsample, downsample_split, avg_over, get_attractor_dimension\n",
    "from pynamics.utils import np_cache, eigsort\n",
    "\n",
    "from randnn import ScaleFreeNN, scaling_analysis\n",
    "from hoogland_masters.plotting import *\n",
    "\n",
    "rc('text', usetex=True)\n",
    "logging.basicConfig(level=logging.ERROR)"
   ]
  },
  {
   "cell_type": "markdown",
   "metadata": {},
   "source": [
    "## The model\n",
    "$$\\tau \\frac{dh_i}{dt}=-h_i+\\sum_{j=1}^N J_{ij}\\phi(h_j),$$\n",
    "\n",
    "#### \"Fixed\" Parameters\n",
    "- $\\tau$ is the characteristic timescale ($:=1$).\n",
    "- $h_i$ is the activation of neuron $i$.\n",
    "- $J_{ij}\\sim \\mathcal N(0, g^2/N)$ is the coupling matrix.\n",
    "- $\\phi$ is the activation function ($=\\tanh$).\n",
    "\n",
    "####  \"Loose\" Parameters\n",
    "- $N$ is the number of neurons.\n",
    "- $g$ is the coupling strength.\n",
    "- $k$ is the degree of the nodes\n",
    "    - $P(k) = c k^{-\\alpha}$\n",
    "    - $c$ is the normalization factor: $c=\\sum_{k_\\text{min}}^{k_\\text{max}} k^{-\\alpha}$. \n",
    "    - $\\alpha$ is the power-law coefficient (i.e., the fraction of edges to dilute to zero).\n",
    "\n",
    "\n",
    "## How to compare sparse networks to dense networks?\n",
    "1. **Vary $\\alpha$. Fix $k_\\text{min}$ & $k_\\text{max}$\n",
    "2. **Vary $\\alpha$. Hold $k_\\text{avg}$ constant by varying either $k_\\text{min}$ or $k_\\text{max}$"
   ]
  },
  {
   "cell_type": "code",
   "execution_count": 2,
   "metadata": {},
   "outputs": [],
   "source": [
    "# Shared parameters\n",
    "N_STEPS = 100000\n",
    "N_DOFS = 200\n",
    "\n",
    "TIMESTEP = 0.1\n",
    "N_BURNIN_STEPS = 500\n",
    "DOWNSAMPLE_RATE = 100"
   ]
  },
  {
   "cell_type": "code",
   "execution_count": 3,
   "metadata": {},
   "outputs": [],
   "source": [
    "rc('text', usetex=False)\n",
    "\n",
    "def measure_over_range(\n",
    "    param_range: List[dict],\n",
    "    n_steps: int = 10000,\n",
    "    n_burn_in: int = 1000,\n",
    "    n_samples: int = 10,\n",
    "    **kwargs\n",
    "):\n",
    "    \"\"\"\n",
    "    A helper function for plotting vector measurements across ranges of\n",
    "    coupling strength values. Each measurement will be plotted as a single curve.\n",
    ":param observable: A function which takes a generated trajectory and\n",
    "        the Trajectory object that generated it, and computes a\n",
    "        measurement on it.\n",
    "    :param n_dofs: The number of elements (neurons).\n",
    "    :param n_steps: How many timesteps to simulate for each\n",
    "        coupling_strength.\n",
    "    :param n_burn_in: How many burnin timesteps to simulate before\n",
    "        starting to record.\n",
    "    :param kwargs:\n",
    "    \"\"\"\n",
    "    results = []\n",
    "    \n",
    "    for i, params in enumerate(param_range):\n",
    "        measurement_range = np.arange(N_DOFS)/N_DOFS\n",
    "        measurements = np.zeros(N_DOFS)\n",
    "        \n",
    "        for j in range(n_samples):\n",
    "            # 1. Initialize a network\n",
    "            nn = ScaleFreeNN(**params,\n",
    "                             network_seed = j,\n",
    "                             **kwargs)\n",
    "\n",
    "            # 2. Simulate a phase space trajectory\n",
    "            trajectory = nn.run(n_steps=n_steps, n_burn_in=n_burn_in)[::DOWNSAMPLE_RATE]\n",
    "\n",
    "            # 3. Perform your measurements\n",
    "            measurements += nn.get_lyapunov_spectrum(trajectory, t_ons=T_ONS)\n",
    "\n",
    "        measurements /= n_samples\n",
    "            \n",
    "        label = \", \".join(list(map(lambda vals: f\"{vals[0]} {vals[1]}\", params.items())))\n",
    "        results.append([measurement_range, measurements, f\"{i}. {label}\"])\n",
    "\n",
    "    return results\n",
    "\n",
    "\n",
    "def plot_lyap_spec_over_range(params_range, **kwargs):\n",
    "    fig = plt.figure()\n",
    "    ax = fig.add_subplot(111)\n",
    "\n",
    "    results = measure_over_range(params_range, **kwargs)\n",
    "\n",
    "    for [x, y, label] in results:\n",
    "        ax.plot(x, y, label=label)\n",
    "\n",
    "    del results\n",
    "\n",
    "    plt.axhline(y=0., linestyle=\"--\")\n",
    "\n",
    "    ax.set_title(f\"$g={kwargs['coupling_strength']}$\")\n",
    "    ax.set_ylabel(\"$\\lambda_i$\")\n",
    "    ax.set_xlabel(\"$i/N$\")\n",
    "    ax.legend()\n",
    "    \n",
    "\n",
    "def plot_lyap_spec_over_double_range(outside_range, inside_range, **kwargs):\n",
    "    for outside_params in outside_range:\n",
    "        plot_lyap_spec_over_range(inside_range, **outside_params, **kwargs)\n",
    "        plt.show()\n",
    "    "
   ]
  },
  {
   "cell_type": "markdown",
   "metadata": {},
   "source": [
    "## Shared parameters"
   ]
  },
  {
   "cell_type": "code",
   "execution_count": 4,
   "metadata": {},
   "outputs": [],
   "source": [
    "ALPHAS = [0., 0.5, 1.0, 1.5, 2.0, 2.5, 3.0, 3.5]\n",
    "ALPHAS_RANGE = list(map(lambda alpha: {\"alpha\": alpha}, ALPHAS))\n",
    "GS_RANGE = list(map(lambda g: { \"coupling_strength\": g}, [1.5, 2., 3.])) # , 5., 10., 20.]))\n",
    "\n",
    "# TODO: Make sure there are non disconnected components\n",
    "# -> sample one edge in one component & one edge in another & make edges cross the component.\n",
    "MIN_DEGREE = 1\n",
    "MAX_DEGREE = N_DOFS"
   ]
  },
  {
   "cell_type": "markdown",
   "metadata": {},
   "source": [
    "## 1. Vary $\\alpha$, constant $g$ & $N$"
   ]
  },
  {
   "cell_type": "code",
   "execution_count": 5,
   "metadata": {},
   "outputs": [
    {
     "name": "stderr",
     "output_type": "stream",
     "text": [
      "Burning in: 100%|██████████| 1000/1000 [00:00<00:00, 1249.82it/s]\n",
      "Generating samples: 100%|██████████| 100000/100000 [01:02<00:00, 1597.00it/s]\n"
     ]
    },
    {
     "ename": "NameError",
     "evalue": "name 'T_ONS' is not defined",
     "output_type": "error",
     "traceback": [
      "\u001b[0;31m---------------------------------------------------------------------------\u001b[0m",
      "\u001b[0;31mNameError\u001b[0m                                 Traceback (most recent call last)",
      "\u001b[0;32m<ipython-input-5-fecdcb64334f>\u001b[0m in \u001b[0;36m<module>\u001b[0;34m\u001b[0m\n\u001b[0;32m----> 1\u001b[0;31m \u001b[0mplot_lyap_spec_over_double_range\u001b[0m\u001b[0;34m(\u001b[0m\u001b[0mGS_RANGE\u001b[0m\u001b[0;34m[\u001b[0m\u001b[0;34m:\u001b[0m\u001b[0;36m1\u001b[0m\u001b[0;34m]\u001b[0m\u001b[0;34m,\u001b[0m \u001b[0mALPHAS_RANGE\u001b[0m\u001b[0;34m,\u001b[0m \u001b[0mn_dofs\u001b[0m\u001b[0;34m=\u001b[0m\u001b[0mN_DOFS\u001b[0m\u001b[0;34m,\u001b[0m \u001b[0mn_steps\u001b[0m\u001b[0;34m=\u001b[0m\u001b[0mN_STEPS\u001b[0m\u001b[0;34m,\u001b[0m \u001b[0mnormalize_strength\u001b[0m\u001b[0;34m=\u001b[0m\u001b[0;32mFalse\u001b[0m\u001b[0;34m)\u001b[0m\u001b[0;34m\u001b[0m\u001b[0;34m\u001b[0m\u001b[0m\n\u001b[0m",
      "\u001b[0;32m<ipython-input-3-b121d790e44b>\u001b[0m in \u001b[0;36mplot_lyap_spec_over_double_range\u001b[0;34m(outside_range, inside_range, **kwargs)\u001b[0m\n\u001b[1;32m     68\u001b[0m \u001b[0;32mdef\u001b[0m \u001b[0mplot_lyap_spec_over_double_range\u001b[0m\u001b[0;34m(\u001b[0m\u001b[0moutside_range\u001b[0m\u001b[0;34m,\u001b[0m \u001b[0minside_range\u001b[0m\u001b[0;34m,\u001b[0m \u001b[0;34m**\u001b[0m\u001b[0mkwargs\u001b[0m\u001b[0;34m)\u001b[0m\u001b[0;34m:\u001b[0m\u001b[0;34m\u001b[0m\u001b[0;34m\u001b[0m\u001b[0m\n\u001b[1;32m     69\u001b[0m     \u001b[0;32mfor\u001b[0m \u001b[0moutside_params\u001b[0m \u001b[0;32min\u001b[0m \u001b[0moutside_range\u001b[0m\u001b[0;34m:\u001b[0m\u001b[0;34m\u001b[0m\u001b[0;34m\u001b[0m\u001b[0m\n\u001b[0;32m---> 70\u001b[0;31m         \u001b[0mplot_lyap_spec_over_range\u001b[0m\u001b[0;34m(\u001b[0m\u001b[0minside_range\u001b[0m\u001b[0;34m,\u001b[0m \u001b[0;34m**\u001b[0m\u001b[0moutside_params\u001b[0m\u001b[0;34m,\u001b[0m \u001b[0;34m**\u001b[0m\u001b[0mkwargs\u001b[0m\u001b[0;34m)\u001b[0m\u001b[0;34m\u001b[0m\u001b[0;34m\u001b[0m\u001b[0m\n\u001b[0m\u001b[1;32m     71\u001b[0m         \u001b[0mplt\u001b[0m\u001b[0;34m.\u001b[0m\u001b[0mshow\u001b[0m\u001b[0;34m(\u001b[0m\u001b[0;34m)\u001b[0m\u001b[0;34m\u001b[0m\u001b[0;34m\u001b[0m\u001b[0m\n\u001b[1;32m     72\u001b[0m \u001b[0;34m\u001b[0m\u001b[0m\n",
      "\u001b[0;32m<ipython-input-3-b121d790e44b>\u001b[0m in \u001b[0;36mplot_lyap_spec_over_range\u001b[0;34m(params_range, **kwargs)\u001b[0m\n\u001b[1;32m     51\u001b[0m     \u001b[0max\u001b[0m \u001b[0;34m=\u001b[0m \u001b[0mfig\u001b[0m\u001b[0;34m.\u001b[0m\u001b[0madd_subplot\u001b[0m\u001b[0;34m(\u001b[0m\u001b[0;36m111\u001b[0m\u001b[0;34m)\u001b[0m\u001b[0;34m\u001b[0m\u001b[0;34m\u001b[0m\u001b[0m\n\u001b[1;32m     52\u001b[0m \u001b[0;34m\u001b[0m\u001b[0m\n\u001b[0;32m---> 53\u001b[0;31m     \u001b[0mresults\u001b[0m \u001b[0;34m=\u001b[0m \u001b[0mmeasure_over_range\u001b[0m\u001b[0;34m(\u001b[0m\u001b[0mparams_range\u001b[0m\u001b[0;34m,\u001b[0m \u001b[0;34m**\u001b[0m\u001b[0mkwargs\u001b[0m\u001b[0;34m)\u001b[0m\u001b[0;34m\u001b[0m\u001b[0;34m\u001b[0m\u001b[0m\n\u001b[0m\u001b[1;32m     54\u001b[0m \u001b[0;34m\u001b[0m\u001b[0m\n\u001b[1;32m     55\u001b[0m     \u001b[0;32mfor\u001b[0m \u001b[0;34m[\u001b[0m\u001b[0mx\u001b[0m\u001b[0;34m,\u001b[0m \u001b[0my\u001b[0m\u001b[0;34m,\u001b[0m \u001b[0mlabel\u001b[0m\u001b[0;34m]\u001b[0m \u001b[0;32min\u001b[0m \u001b[0mresults\u001b[0m\u001b[0;34m:\u001b[0m\u001b[0;34m\u001b[0m\u001b[0;34m\u001b[0m\u001b[0m\n",
      "\u001b[0;32m<ipython-input-3-b121d790e44b>\u001b[0m in \u001b[0;36mmeasure_over_range\u001b[0;34m(param_range, n_steps, n_burn_in, n_samples, **kwargs)\u001b[0m\n\u001b[1;32m     37\u001b[0m \u001b[0;34m\u001b[0m\u001b[0m\n\u001b[1;32m     38\u001b[0m             \u001b[0;31m# 3. Perform your measurements\u001b[0m\u001b[0;34m\u001b[0m\u001b[0;34m\u001b[0m\u001b[0;34m\u001b[0m\u001b[0m\n\u001b[0;32m---> 39\u001b[0;31m             \u001b[0mmeasurements\u001b[0m \u001b[0;34m+=\u001b[0m \u001b[0mnn\u001b[0m\u001b[0;34m.\u001b[0m\u001b[0mget_lyapunov_spectrum\u001b[0m\u001b[0;34m(\u001b[0m\u001b[0mtrajectory\u001b[0m\u001b[0;34m,\u001b[0m \u001b[0mt_ons\u001b[0m\u001b[0;34m=\u001b[0m\u001b[0mT_ONS\u001b[0m\u001b[0;34m)\u001b[0m\u001b[0;34m\u001b[0m\u001b[0;34m\u001b[0m\u001b[0m\n\u001b[0m\u001b[1;32m     40\u001b[0m \u001b[0;34m\u001b[0m\u001b[0m\n\u001b[1;32m     41\u001b[0m         \u001b[0mmeasurements\u001b[0m \u001b[0;34m/=\u001b[0m \u001b[0mn_samples\u001b[0m\u001b[0;34m\u001b[0m\u001b[0;34m\u001b[0m\u001b[0m\n",
      "\u001b[0;31mNameError\u001b[0m: name 'T_ONS' is not defined"
     ]
    },
    {
     "data": {
      "image/png": "[encoded data removed]",
      "text/plain": [
       "<Figure size 432x288 with 1 Axes>"
      ]
     },
     "metadata": {
      "needs_background": "light"
     },
     "output_type": "display_data"
    }
   ],
   "source": [
    "plot_lyap_spec_over_double_range(GS_RANGE[:1], ALPHAS_RANGE, n_dofs=N_DOFS, n_steps=N_STEPS, normalize_strength=False)"
   ]
  },
  {
   "cell_type": "markdown",
   "metadata": {},
   "source": [
    "## 2. Vary $\\alpha$, constant $\\text{std}(J_{ij})$"
   ]
  },
  {
   "cell_type": "code",
   "execution_count": null,
   "metadata": {},
   "outputs": [],
   "source": [
    "plot_lyap_spec_over_double_range(GS_RANGE[:2], ALPHAS_RANGE, n_dofs=N_DOFS, n_steps=N_STEPS, normalize_strength=True)"
   ]
  },
  {
   "cell_type": "markdown",
   "metadata": {},
   "source": [
    "## Appendix\n",
    "\n",
    "Other things to do:"
   ]
  },
  {
   "cell_type": "code",
   "execution_count": null,
   "metadata": {},
   "outputs": [],
   "source": [
    "# Compare exact same network architectures and relative weights, vary only absolute coupling strength."
   ]
  }
 ],
 "metadata": {
  "kernelspec": {
   "display_name": "masters",
   "language": "python",
   "name": "masters"
  },
  "language_info": {
   "codemirror_mode": {
    "name": "ipython",
    "version": 3
   },
   "file_extension": ".py",
   "mimetype": "text/x-python",
   "name": "python",
   "nbconvert_exporter": "python",
   "pygments_lexer": "ipython3",
   "version": "3.8.6"
  }
 },
 "nbformat": 4,
 "nbformat_minor": 4
}
