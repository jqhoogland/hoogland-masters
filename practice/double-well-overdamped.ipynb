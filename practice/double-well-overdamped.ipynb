{
 "cells": [
  {
   "cell_type": "code",
   "execution_count": 1,
   "metadata": {},
   "outputs": [],
   "source": [
    "import logging, sys\n",
    "from typing import List, Callable, Optional, Any\n",
    "\n",
    "import numpy as np\n",
    "import matplotlib.pyplot as plt\n",
    "from matplotlib import rc  \n",
    "from sklearn.decomposition import PCA \n",
    "from IPython.display import display, Latex\n",
    "\n",
    "from pynamics import downsample, downsample_split, avg_over\n",
    "from pynamics.utils import np_cache, eigsort\n",
    "from pynamics.systems import DoubleWell\n",
    "from randnn.plotting import *\n",
    "from pytransfer.transfer_operator import *\n",
    "\n",
    "rc('text', usetex=True)\n",
    "# logging.basicConfig(level=logging.INFO)\n",
    "np.set_printoptions(threshold=100)"
   ]
  },
  {
   "cell_type": "markdown",
   "metadata": {},
   "source": [
    "# Applying the transfer operator approach\n",
    "\n",
    "### 1. Coarse-graining in space:\n",
    "\n",
    "#### Clustering\n",
    "\n",
    "We run an explicit coarse-graining step by clustering the embedding space.\n",
    "\n",
    "### 2. Coarse-graining in time: \n",
    "\n",
    "#### Downsampling\n",
    "We are interested in the long-term behavior of the system (and have finitely powerful computers), so we downsample the trajectory, discarding many intermediate timesteps.\n",
    "\n",
    "#### Delay embedding\n",
    "To achieve a near-memory-less (Markovian) definition of state, we stack delayed copies of measurements within a short time window.\n",
    "\n",
    "# Parameters"
   ]
  },
  {
   "cell_type": "code",
   "execution_count": 70,
   "metadata": {},
   "outputs": [],
   "source": [
    "# ------------------------\n",
    "# DOUBLE WELL PARAMETERS\n",
    "# ------------------------\n",
    "\n",
    "# Main parameters:\n",
    "# For clear timescale separation, try Beta = 5. \n",
    "# For higher values, you start to run into the problem of well-lock\n",
    "BETA =  2\n",
    "IS_OVERDAMPED = True\n",
    "\n",
    "# The following parameters influence temporal resolution and trajectory duration\n",
    "TIMESTEP = 0.01 # 0.01 \n",
    "DOWNSAMPLE_RATE = 1 # 10\n",
    "\n",
    "TIMESPAN = 100000 # 100000\n",
    "N_STEPS = int(TIMESPAN // TIMESTEP)\n",
    "N_BURNIN_STEPS = 1000 \n",
    "\n",
    "N_CLUSTERS = 200 #1225\n",
    "TRANSITION_TIMESCALE = 1 # This is the number of timesteps to take before counting a transition from one cell to the next\n",
    "# -----------------------\n",
    "# PLOTTING PARAMETERS\n",
    "# ------------------------\n",
    "\n",
    "EIGENVALUE_RANGE = [1, 10]"
   ]
  },
  {
   "cell_type": "code",
   "execution_count": 71,
   "metadata": {},
   "outputs": [
    {
     "name": "stderr",
     "output_type": "stream",
     "text": [
      "Burning in: 100%|██████████| 1000/1000 [00:00<00:00, 33714.37it/s]\n",
      "Generating samples: 100%|██████████| 9999999/9999999 [04:07<00:00, 40336.26it/s]\n"
     ]
    },
    {
     "data": {
      "application/vnd.jupyter.widget-view+json": {
       "model_id": "cc769f34ac874acfa4b50b48667b2696",
       "version_major": 2,
       "version_minor": 0
      },
      "text/plain": [
       "HBox(children=(HTML(value='Creating the transfer matrix'), FloatProgress(value=0.0, max=9999997.0), HTML(value…"
      ]
     },
     "metadata": {},
     "output_type": "display_data"
    },
    {
     "name": "stdout",
     "output_type": "stream",
     "text": [
      "\n"
     ]
    },
    {
     "data": {
      "text/plain": [
       "<randnn.transfer_operator.TransferOperator at 0x15a5a36a0>"
      ]
     },
     "execution_count": 71,
     "metadata": {},
     "output_type": "execute_result"
    }
   ],
   "source": [
    "double_well = DoubleWell(beta=BETA, timestep=TIMESTEP, is_overdamped=True)\n",
    "time_series = double_well.run(n_steps=N_STEPS, n_burn_in=N_BURNIN_STEPS)[::DOWNSAMPLE_RATE]\n",
    "\n",
    "transfer_operator = TransferOperator(labeling_method=\"uniform\", n_clusters=N_CLUSTERS)\n",
    "transfer_operator.fit(verbose=True, time_series=time_series, n_future_timesteps=TRANSITION_TIMESCALE)"
   ]
  },
  {
   "cell_type": "code",
   "execution_count": 72,
   "metadata": {},
   "outputs": [
    {
     "name": "stderr",
     "output_type": "stream",
     "text": [
      "<ipython-input-72-9d4c3108cf69>:22: VisibleDeprecationWarning: Creating an ndarray from ragged nested sequences (which is a list-or-tuple of lists-or-tuples-or ndarrays with different lengths or shapes) is deprecated. If you meant to do this, you must specify 'dtype=object' when creating the ndarray\n",
      "  plt.hlines(np.array([cluster_size, inter_well_width, well_width]).T, 0.1, times[-1])\n",
      "/Users/Jesse/.local/share/virtualenvs/randnn-PaBUC3Au/lib/python3.8/site-packages/numpy/core/_asarray.py:83: VisibleDeprecationWarning: Creating an ndarray from ragged nested sequences (which is a list-or-tuple of lists-or-tuples-or ndarrays with different lengths or shapes) is deprecated. If you meant to do this, you must specify 'dtype=object' when creating the ndarray\n",
      "  return array(a, dtype, copy=False, order=order)\n"
     ]
    },
    {
     "ename": "TypeError",
     "evalue": "ufunc 'isfinite' not supported for the input types, and the inputs could not be safely coerced to any supported types according to the casting rule ''safe''",
     "output_type": "error",
     "traceback": [
      "\u001b[0;31m---------------------------------------------------------------------------\u001b[0m",
      "\u001b[0;31mTypeError\u001b[0m                                 Traceback (most recent call last)",
      "\u001b[0;32m<ipython-input-72-9d4c3108cf69>\u001b[0m in \u001b[0;36m<module>\u001b[0;34m\u001b[0m\n\u001b[1;32m     20\u001b[0m \u001b[0mplt\u001b[0m\u001b[0;34m.\u001b[0m\u001b[0mylabel\u001b[0m\u001b[0;34m(\u001b[0m\u001b[0;34m\"$\\langle x^2(t)\\\\rangle$\"\u001b[0m\u001b[0;34m)\u001b[0m\u001b[0;34m\u001b[0m\u001b[0;34m\u001b[0m\u001b[0m\n\u001b[1;32m     21\u001b[0m \u001b[0mplt\u001b[0m\u001b[0;34m.\u001b[0m\u001b[0mxlabel\u001b[0m\u001b[0;34m(\u001b[0m\u001b[0;34m\"$t$\"\u001b[0m\u001b[0;34m)\u001b[0m\u001b[0;34m\u001b[0m\u001b[0;34m\u001b[0m\u001b[0m\n\u001b[0;32m---> 22\u001b[0;31m \u001b[0mplt\u001b[0m\u001b[0;34m.\u001b[0m\u001b[0mhlines\u001b[0m\u001b[0;34m(\u001b[0m\u001b[0mnp\u001b[0m\u001b[0;34m.\u001b[0m\u001b[0marray\u001b[0m\u001b[0;34m(\u001b[0m\u001b[0;34m[\u001b[0m\u001b[0mcluster_size\u001b[0m\u001b[0;34m,\u001b[0m \u001b[0minter_well_width\u001b[0m\u001b[0;34m,\u001b[0m \u001b[0mwell_width\u001b[0m\u001b[0;34m]\u001b[0m\u001b[0;34m)\u001b[0m\u001b[0;34m.\u001b[0m\u001b[0mT\u001b[0m\u001b[0;34m,\u001b[0m \u001b[0;36m0.1\u001b[0m\u001b[0;34m,\u001b[0m \u001b[0mtimes\u001b[0m\u001b[0;34m[\u001b[0m\u001b[0;34m-\u001b[0m\u001b[0;36m1\u001b[0m\u001b[0;34m]\u001b[0m\u001b[0;34m)\u001b[0m\u001b[0;34m\u001b[0m\u001b[0;34m\u001b[0m\u001b[0m\n\u001b[0m",
      "\u001b[0;32m~/.local/share/virtualenvs/randnn-PaBUC3Au/lib/python3.8/site-packages/matplotlib/pyplot.py\u001b[0m in \u001b[0;36mhlines\u001b[0;34m(y, xmin, xmax, colors, linestyles, label, data, **kwargs)\u001b[0m\n\u001b[1;32m   2709\u001b[0m         \u001b[0my\u001b[0m\u001b[0;34m,\u001b[0m \u001b[0mxmin\u001b[0m\u001b[0;34m,\u001b[0m \u001b[0mxmax\u001b[0m\u001b[0;34m,\u001b[0m \u001b[0mcolors\u001b[0m\u001b[0;34m=\u001b[0m\u001b[0;32mNone\u001b[0m\u001b[0;34m,\u001b[0m \u001b[0mlinestyles\u001b[0m\u001b[0;34m=\u001b[0m\u001b[0;34m'solid'\u001b[0m\u001b[0;34m,\u001b[0m \u001b[0mlabel\u001b[0m\u001b[0;34m=\u001b[0m\u001b[0;34m''\u001b[0m\u001b[0;34m,\u001b[0m \u001b[0;34m*\u001b[0m\u001b[0;34m,\u001b[0m\u001b[0;34m\u001b[0m\u001b[0;34m\u001b[0m\u001b[0m\n\u001b[1;32m   2710\u001b[0m         data=None, **kwargs):\n\u001b[0;32m-> 2711\u001b[0;31m     return gca().hlines(\n\u001b[0m\u001b[1;32m   2712\u001b[0m         \u001b[0my\u001b[0m\u001b[0;34m,\u001b[0m \u001b[0mxmin\u001b[0m\u001b[0;34m,\u001b[0m \u001b[0mxmax\u001b[0m\u001b[0;34m,\u001b[0m \u001b[0mcolors\u001b[0m\u001b[0;34m=\u001b[0m\u001b[0mcolors\u001b[0m\u001b[0;34m,\u001b[0m \u001b[0mlinestyles\u001b[0m\u001b[0;34m=\u001b[0m\u001b[0mlinestyles\u001b[0m\u001b[0;34m,\u001b[0m\u001b[0;34m\u001b[0m\u001b[0;34m\u001b[0m\u001b[0m\n\u001b[1;32m   2713\u001b[0m         \u001b[0mlabel\u001b[0m\u001b[0;34m=\u001b[0m\u001b[0mlabel\u001b[0m\u001b[0;34m,\u001b[0m \u001b[0;34m**\u001b[0m\u001b[0;34m(\u001b[0m\u001b[0;34m{\u001b[0m\u001b[0;34m\"data\"\u001b[0m\u001b[0;34m:\u001b[0m \u001b[0mdata\u001b[0m\u001b[0;34m}\u001b[0m \u001b[0;32mif\u001b[0m \u001b[0mdata\u001b[0m \u001b[0;32mis\u001b[0m \u001b[0;32mnot\u001b[0m \u001b[0;32mNone\u001b[0m \u001b[0;32melse\u001b[0m \u001b[0;34m{\u001b[0m\u001b[0;34m}\u001b[0m\u001b[0;34m)\u001b[0m\u001b[0;34m,\u001b[0m\u001b[0;34m\u001b[0m\u001b[0;34m\u001b[0m\u001b[0m\n",
      "\u001b[0;32m~/.local/share/virtualenvs/randnn-PaBUC3Au/lib/python3.8/site-packages/matplotlib/__init__.py\u001b[0m in \u001b[0;36minner\u001b[0;34m(ax, data, *args, **kwargs)\u001b[0m\n\u001b[1;32m   1436\u001b[0m     \u001b[0;32mdef\u001b[0m \u001b[0minner\u001b[0m\u001b[0;34m(\u001b[0m\u001b[0max\u001b[0m\u001b[0;34m,\u001b[0m \u001b[0;34m*\u001b[0m\u001b[0margs\u001b[0m\u001b[0;34m,\u001b[0m \u001b[0mdata\u001b[0m\u001b[0;34m=\u001b[0m\u001b[0;32mNone\u001b[0m\u001b[0;34m,\u001b[0m \u001b[0;34m**\u001b[0m\u001b[0mkwargs\u001b[0m\u001b[0;34m)\u001b[0m\u001b[0;34m:\u001b[0m\u001b[0;34m\u001b[0m\u001b[0;34m\u001b[0m\u001b[0m\n\u001b[1;32m   1437\u001b[0m         \u001b[0;32mif\u001b[0m \u001b[0mdata\u001b[0m \u001b[0;32mis\u001b[0m \u001b[0;32mNone\u001b[0m\u001b[0;34m:\u001b[0m\u001b[0;34m\u001b[0m\u001b[0;34m\u001b[0m\u001b[0m\n\u001b[0;32m-> 1438\u001b[0;31m             \u001b[0;32mreturn\u001b[0m \u001b[0mfunc\u001b[0m\u001b[0;34m(\u001b[0m\u001b[0max\u001b[0m\u001b[0;34m,\u001b[0m \u001b[0;34m*\u001b[0m\u001b[0mmap\u001b[0m\u001b[0;34m(\u001b[0m\u001b[0msanitize_sequence\u001b[0m\u001b[0;34m,\u001b[0m \u001b[0margs\u001b[0m\u001b[0;34m)\u001b[0m\u001b[0;34m,\u001b[0m \u001b[0;34m**\u001b[0m\u001b[0mkwargs\u001b[0m\u001b[0;34m)\u001b[0m\u001b[0;34m\u001b[0m\u001b[0;34m\u001b[0m\u001b[0m\n\u001b[0m\u001b[1;32m   1439\u001b[0m \u001b[0;34m\u001b[0m\u001b[0m\n\u001b[1;32m   1440\u001b[0m         \u001b[0mbound\u001b[0m \u001b[0;34m=\u001b[0m \u001b[0mnew_sig\u001b[0m\u001b[0;34m.\u001b[0m\u001b[0mbind\u001b[0m\u001b[0;34m(\u001b[0m\u001b[0max\u001b[0m\u001b[0;34m,\u001b[0m \u001b[0;34m*\u001b[0m\u001b[0margs\u001b[0m\u001b[0;34m,\u001b[0m \u001b[0;34m**\u001b[0m\u001b[0mkwargs\u001b[0m\u001b[0;34m)\u001b[0m\u001b[0;34m\u001b[0m\u001b[0;34m\u001b[0m\u001b[0m\n",
      "\u001b[0;32m~/.local/share/virtualenvs/randnn-PaBUC3Au/lib/python3.8/site-packages/matplotlib/axes/_axes.py\u001b[0m in \u001b[0;36mhlines\u001b[0;34m(self, y, xmin, xmax, colors, linestyles, label, **kwargs)\u001b[0m\n\u001b[1;32m   1190\u001b[0m             \u001b[0mcorners\u001b[0m \u001b[0;34m=\u001b[0m \u001b[0;34m(\u001b[0m\u001b[0mminx\u001b[0m\u001b[0;34m,\u001b[0m \u001b[0mminy\u001b[0m\u001b[0;34m)\u001b[0m\u001b[0;34m,\u001b[0m \u001b[0;34m(\u001b[0m\u001b[0mmaxx\u001b[0m\u001b[0;34m,\u001b[0m \u001b[0mmaxy\u001b[0m\u001b[0;34m)\u001b[0m\u001b[0;34m\u001b[0m\u001b[0;34m\u001b[0m\u001b[0m\n\u001b[1;32m   1191\u001b[0m \u001b[0;34m\u001b[0m\u001b[0m\n\u001b[0;32m-> 1192\u001b[0;31m             \u001b[0mself\u001b[0m\u001b[0;34m.\u001b[0m\u001b[0mupdate_datalim\u001b[0m\u001b[0;34m(\u001b[0m\u001b[0mcorners\u001b[0m\u001b[0;34m)\u001b[0m\u001b[0;34m\u001b[0m\u001b[0;34m\u001b[0m\u001b[0m\n\u001b[0m\u001b[1;32m   1193\u001b[0m             \u001b[0mself\u001b[0m\u001b[0;34m.\u001b[0m\u001b[0m_request_autoscale_view\u001b[0m\u001b[0;34m(\u001b[0m\u001b[0;34m)\u001b[0m\u001b[0;34m\u001b[0m\u001b[0;34m\u001b[0m\u001b[0m\n\u001b[1;32m   1194\u001b[0m \u001b[0;34m\u001b[0m\u001b[0m\n",
      "\u001b[0;32m~/.local/share/virtualenvs/randnn-PaBUC3Au/lib/python3.8/site-packages/matplotlib/axes/_base.py\u001b[0m in \u001b[0;36mupdate_datalim\u001b[0;34m(self, xys, updatex, updatey)\u001b[0m\n\u001b[1;32m   2140\u001b[0m         \"\"\"\n\u001b[1;32m   2141\u001b[0m         \u001b[0mxys\u001b[0m \u001b[0;34m=\u001b[0m \u001b[0mnp\u001b[0m\u001b[0;34m.\u001b[0m\u001b[0masarray\u001b[0m\u001b[0;34m(\u001b[0m\u001b[0mxys\u001b[0m\u001b[0;34m)\u001b[0m\u001b[0;34m\u001b[0m\u001b[0;34m\u001b[0m\u001b[0m\n\u001b[0;32m-> 2142\u001b[0;31m         \u001b[0;32mif\u001b[0m \u001b[0;32mnot\u001b[0m \u001b[0mnp\u001b[0m\u001b[0;34m.\u001b[0m\u001b[0many\u001b[0m\u001b[0;34m(\u001b[0m\u001b[0mnp\u001b[0m\u001b[0;34m.\u001b[0m\u001b[0misfinite\u001b[0m\u001b[0;34m(\u001b[0m\u001b[0mxys\u001b[0m\u001b[0;34m)\u001b[0m\u001b[0;34m)\u001b[0m\u001b[0;34m:\u001b[0m\u001b[0;34m\u001b[0m\u001b[0;34m\u001b[0m\u001b[0m\n\u001b[0m\u001b[1;32m   2143\u001b[0m             \u001b[0;32mreturn\u001b[0m\u001b[0;34m\u001b[0m\u001b[0;34m\u001b[0m\u001b[0m\n\u001b[1;32m   2144\u001b[0m         self.dataLim.update_from_data_xy(xys, self.ignore_existing_data_limits,\n",
      "\u001b[0;31mTypeError\u001b[0m: ufunc 'isfinite' not supported for the input types, and the inputs could not be safely coerced to any supported types according to the casting rule ''safe''"
     ]
    },
    {
     "data": {
      "image/png": "[encoded data removed]",
      "text/plain": [
       "<Figure size 432x288 with 1 Axes>"
      ]
     },
     "metadata": {
      "needs_background": "light"
     },
     "output_type": "display_data"
    }
   ],
   "source": [
    "min_x = np.amin(time_series, axis=0)\n",
    "max_x = np.amax(time_series, axis=0)\n",
    "cluster_size = (max_x-min_x) / N_CLUSTERS \n",
    "\n",
    "well_width = max_x - min_x / 2\n",
    "inter_well_width = 2\n",
    "\n",
    "SEGMENT_LENGTH = 10000\n",
    "times = np.arange(SEGMENT_LENGTH)* TIMESTEP\n",
    "n_segments = N_STEPS // SEGMENT_LENGTH\n",
    "distances_with_time = np.zeros((1, SEGMENT_LENGTH))\n",
    "\n",
    "for i in range(n_segments):\n",
    "    I = SEGMENT_LENGTH * i\n",
    "    distances_with_time += np.square(time_series[I:I+SEGMENT_LENGTH].T - (time_series[I] * np.ones(SEGMENT_LENGTH)))\n",
    "    \n",
    "distances_with_time /= n_segments\n",
    "plt.plot(times,distances_with_time.T)\n",
    "plt.title(\"$\\langle x^2(t)\\\\rangle$\")\n",
    "plt.ylabel(\"$\\langle x^2(t)\\\\rangle$\")\n",
    "plt.xlabel(\"$t$\")\n",
    "plt.hlines(np.array([cluster_size, inter_well_width, well_width]).T, 0.1, times[-1])\n"
   ]
  },
  {
   "cell_type": "code",
   "execution_count": null,
   "metadata": {},
   "outputs": [],
   "source": [
    "plt.plot(times[:100],distances_with_time.T[:100])\n",
    "plt.title(\"$\\langle x^2(t)\\\\rangle$\")\n",
    "plt.ylabel(\"$\\langle x^2(t)\\\\rangle$\")\n",
    "plt.xlabel(\"$t$\")\n",
    "plt.hlines(np.array([cluster_size, inter_well_width, well_width]).T, 0, times[100])"
   ]
  },
  {
   "cell_type": "code",
   "execution_count": 3,
   "metadata": {},
   "outputs": [
    {
     "name": "stderr",
     "output_type": "stream",
     "text": [
      "/Users/Jesse/Projects/masters-thesis/code/randnn/randnn/plotting/double_well.py:89: ComplexWarning: Casting complex values to real discards the imaginary part\n",
      "  forward_entropies[i] = matrix.forward_entropy\n",
      "/Users/Jesse/Projects/masters-thesis/code/randnn/randnn/plotting/double_well.py:90: ComplexWarning: Casting complex values to real discards the imaginary part\n",
      "  reverse_entropies[i] = matrix.reverse_entropy\n",
      "/Users/Jesse/Projects/masters-thesis/code/randnn/randnn/plotting/double_well.py:91: ComplexWarning: Casting complex values to real discards the imaginary part\n",
      "  entropy_productions[i] = matrix.entropy_production\n"
     ]
    },
    {
     "data": {
      "image/png": "[encoded data removed]",
      "text/plain": [
       "<Figure size 432x288 with 1 Axes>"
      ]
     },
     "metadata": {
      "needs_background": "light"
     },
     "output_type": "display_data"
    }
   ],
   "source": [
    "RATE = 1\n",
    "TIMESTEP = 0.01\n",
    "BETAS = [0.05, 0.1, 0.5, 1, 2, 3, 5, 8]\n",
    "TIMESTEP = 0.01\n",
    "N_STEPS = 1000000\n",
    "plot_entropies_with_betas(BETAS, RATE, TIMESTEP, N_STEPS, N_BURNIN_STEPS, N_CLUSTERS)"
   ]
  },
  {
   "cell_type": "markdown",
   "metadata": {},
   "source": [
    "# Generating data — Overdamped"
   ]
  },
  {
   "cell_type": "code",
   "execution_count": 5,
   "metadata": {},
   "outputs": [
    {
     "data": {
      "text/latex": [
       "Your relative height is $KT/h=0.25$"
      ],
      "text/plain": [
       "<IPython.core.display.Latex object>"
      ]
     },
     "metadata": {},
     "output_type": "display_data"
    }
   ],
   "source": [
    "display(Latex(f\"Your relative height is $KT/h={1./double_well.rel_barrier_height}$\"))"
   ]
  },
  {
   "cell_type": "markdown",
   "metadata": {},
   "source": [
    "## Equilibrium\n",
    "\n",
    "Let's establish that we've actually settled into equilibrium. \n",
    "\n",
    "### Boltzmann distribution\n",
    "\n",
    "The first check is that the Boltzmann distributions appear qualitatively similar. If this is off, we already know we need to go back to the drawing board.\n"
   ]
  },
  {
   "cell_type": "code",
   "execution_count": 61,
   "metadata": {},
   "outputs": [
    {
     "data": {
      "image/png": "[encoded data removed]",
      "text/plain": [
       "<Figure size 432x288 with 1 Axes>"
      ]
     },
     "metadata": {
      "needs_background": "light"
     },
     "output_type": "display_data"
    },
    {
     "name": "stderr",
     "output_type": "stream",
     "text": [
      "/Users/Jesse/.local/share/virtualenvs/randnn-PaBUC3Au/lib/python3.8/site-packages/matplotlib/axes/_axes.py:6658: ComplexWarning: Casting complex values to real discards the imaginary part\n",
      "  tops = np.array(tops, float)  # causes problems later if it's an int\n"
     ]
    },
    {
     "data": {
      "image/png": "[encoded data removed]",
      "text/plain": [
       "<Figure size 432x288 with 1 Axes>"
      ]
     },
     "metadata": {
      "needs_background": "light"
     },
     "output_type": "display_data"
    },
    {
     "name": "stderr",
     "output_type": "stream",
     "text": [
      "/Users/Jesse/.local/share/virtualenvs/randnn-PaBUC3Au/lib/python3.8/site-packages/matplotlib/axes/_axes.py:6658: ComplexWarning: Casting complex values to real discards the imaginary part\n",
      "  tops = np.array(tops, float)  # causes problems later if it's an int\n"
     ]
    },
    {
     "data": {
      "image/png": "[encoded data removed]",
      "text/plain": [
       "<Figure size 432x288 with 1 Axes>"
      ]
     },
     "metadata": {
      "needs_background": "light"
     },
     "output_type": "display_data"
    },
    {
     "data": {
      "image/png": "[encoded data removed]",
      "text/plain": [
       "<Figure size 432x288 with 1 Axes>"
      ]
     },
     "metadata": {
      "needs_background": "light"
     },
     "output_type": "display_data"
    }
   ],
   "source": [
    "dX = 0.01\n",
    "positions = np.array([np.arange(-2, 2, dX)]).T\n",
    "\n",
    "# We compare the Boltzmann distribution directly from data...\n",
    "\n",
    "plt.hist(time_series, density=True, bins=N_CLUSTERS)\n",
    "plt.ylabel(\"P(x)\")\n",
    "plt.xlabel(\"x\")\n",
    "\n",
    "plt.title(\"Distribution of positions in the generated trajectory\")\n",
    "plt.show()\n",
    "\n",
    "# ...with the distribution from the transfer matrix...\n",
    "\n",
    "cluster_centers = transfer_operator.cluster_centers\n",
    "min_x = np.amin(time_series, axis=0)\n",
    "max_x = np.amax(time_series, axis=0)\n",
    "step = (max_x-min_x) / transfer_operator.invariant_dist.size\n",
    "\n",
    "plt.hist(cluster_centers, weights=transfer_operator.eigvecs[:,2], bins=N_CLUSTERS)\n",
    "plt.ylabel(\"P(x)\")\n",
    "plt.xlabel(\"x\")\n",
    "plt.title(\"Stationary distribution of the first eigenfunction.\")\n",
    "plt.show()\n",
    "\n",
    "cluster_centers = transfer_operator.cluster_centers\n",
    "min_x = np.amin(time_series, axis=0)\n",
    "max_x = np.amax(time_series, axis=0)\n",
    "step = (max_x-min_x) / transfer_operator.invariant_dist.size\n",
    "\n",
    "plt.hist(cluster_centers, weights=transfer_operator.eigvecs[0,:], bins=N_CLUSTERS)\n",
    "plt.ylabel(\"P(x)\")\n",
    "plt.xlabel(\"x\")\n",
    "plt.title(\"Stationary distribution of the (transpose) transfer matrix.\")\n",
    "plt.show()\n",
    "\n",
    "\n",
    "# eigsort(transfer_operator.forward_matrix.T, eig_method=\"np\")\n",
    "\n",
    "# ... and against the theoretical distribution\n",
    "\n",
    "weights = double_well.boltzmann_weights(positions)\n",
    "plt.hist(positions, weights=weights, bins=N_CLUSTERS)\n",
    "plt.ylabel(\"P(x)\")\n",
    "plt.xlabel(\"x\")\n",
    "\n",
    "plt.title(\"True Boltzmann distribution.\")\n",
    "plt.show()"
   ]
  },
  {
   "cell_type": "code",
   "execution_count": 7,
   "metadata": {},
   "outputs": [
    {
     "data": {
      "text/plain": [
       "<matplotlib.image.AxesImage at 0x105041130>"
      ]
     },
     "execution_count": 7,
     "metadata": {},
     "output_type": "execute_result"
    },
    {
     "data": {
      "image/png": "[encoded data removed]",
      "text/plain": [
       "<Figure size 288x288 with 1 Axes>"
      ]
     },
     "metadata": {
      "needs_background": "light"
     },
     "output_type": "display_data"
    },
    {
     "data": {
      "image/png": "[encoded data removed]",
      "text/plain": [
       "<Figure size 288x288 with 1 Axes>"
      ]
     },
     "metadata": {
      "needs_background": "light"
     },
     "output_type": "display_data"
    },
    {
     "data": {
      "image/png": "[encoded data removed]",
      "text/plain": [
       "<Figure size 288x288 with 1 Axes>"
      ]
     },
     "metadata": {
      "needs_background": "light"
     },
     "output_type": "display_data"
    },
    {
     "data": {
      "image/png": "[encoded data removed]",
      "text/plain": [
       "<Figure size 288x288 with 1 Axes>"
      ]
     },
     "metadata": {
      "needs_background": "light"
     },
     "output_type": "display_data"
    }
   ],
   "source": [
    "plt.matshow(transfer_operator.forward_matrix)\n",
    "plt.matshow((transfer_operator.forward_matrix - transfer_operator.forward_matrix.T))\n",
    "plt.matshow(transfer_operator.reverse_matrix)\n",
    "plt.matshow(transfer_operator.reverse_matrix - transfer_operator.reverse_matrix.T)"
   ]
  },
  {
   "cell_type": "markdown",
   "metadata": {},
   "source": [
    "### Energy distribution\n",
    "\n",
    "For a more quantitative check, we can compare the observed energy distribution to the theoretical distribution and confirm that the equipartition theorem holds (i.e. that each dof has, on average, an energy $kT/2$). "
   ]
  },
  {
   "cell_type": "code",
   "execution_count": 8,
   "metadata": {},
   "outputs": [
    {
     "data": {
      "image/png": "[encoded data removed]",
      "text/plain": [
       "<Figure size 432x288 with 1 Axes>"
      ]
     },
     "metadata": {
      "needs_background": "light"
     },
     "output_type": "display_data"
    },
    {
     "ename": "NameError",
     "evalue": "name 'stable_dist' is not defined",
     "output_type": "error",
     "traceback": [
      "\u001b[0;31m---------------------------------------------------------------------------\u001b[0m",
      "\u001b[0;31mNameError\u001b[0m                                 Traceback (most recent call last)",
      "\u001b[0;32m<ipython-input-8-8a0903fda148>\u001b[0m in \u001b[0;36m<module>\u001b[0;34m\u001b[0m\n\u001b[1;32m     12\u001b[0m \u001b[0mtm_energies\u001b[0m \u001b[0;34m=\u001b[0m \u001b[0mdouble_well\u001b[0m\u001b[0;34m.\u001b[0m\u001b[0menergy\u001b[0m\u001b[0;34m(\u001b[0m\u001b[0mcluster_centers\u001b[0m\u001b[0;34m)\u001b[0m\u001b[0;34m\u001b[0m\u001b[0;34m\u001b[0m\u001b[0m\n\u001b[1;32m     13\u001b[0m \u001b[0mplt\u001b[0m\u001b[0;34m.\u001b[0m\u001b[0mtitle\u001b[0m\u001b[0;34m(\u001b[0m\u001b[0;34m\"Stationary distribution of the transfer matrix\"\u001b[0m\u001b[0;34m)\u001b[0m\u001b[0;34m\u001b[0m\u001b[0;34m\u001b[0m\u001b[0m\n\u001b[0;32m---> 14\u001b[0;31m \u001b[0mplt\u001b[0m\u001b[0;34m.\u001b[0m\u001b[0mhist\u001b[0m\u001b[0;34m(\u001b[0m\u001b[0mtm_energies\u001b[0m\u001b[0;34m,\u001b[0m \u001b[0mdensity\u001b[0m\u001b[0;34m=\u001b[0m\u001b[0;32mTrue\u001b[0m\u001b[0;34m,\u001b[0m \u001b[0mbins\u001b[0m\u001b[0;34m=\u001b[0m\u001b[0mN_CLUSTERS\u001b[0m\u001b[0;34m,\u001b[0m \u001b[0mweights\u001b[0m\u001b[0;34m=\u001b[0m\u001b[0mstable_dist\u001b[0m\u001b[0;34m,\u001b[0m \u001b[0mrange\u001b[0m\u001b[0;34m=\u001b[0m\u001b[0;34m[\u001b[0m\u001b[0;36m0\u001b[0m\u001b[0;34m,\u001b[0m \u001b[0;36m2\u001b[0m\u001b[0;34m]\u001b[0m\u001b[0;34m)\u001b[0m\u001b[0;34m\u001b[0m\u001b[0;34m\u001b[0m\u001b[0m\n\u001b[0m\u001b[1;32m     15\u001b[0m \u001b[0mplt\u001b[0m\u001b[0;34m.\u001b[0m\u001b[0mylabel\u001b[0m\u001b[0;34m(\u001b[0m\u001b[0;34m\"P(E)\"\u001b[0m\u001b[0;34m)\u001b[0m\u001b[0;34m\u001b[0m\u001b[0;34m\u001b[0m\u001b[0m\n\u001b[1;32m     16\u001b[0m \u001b[0mplt\u001b[0m\u001b[0;34m.\u001b[0m\u001b[0mxlabel\u001b[0m\u001b[0;34m(\u001b[0m\u001b[0;34m\"E\"\u001b[0m\u001b[0;34m)\u001b[0m\u001b[0;34m\u001b[0m\u001b[0;34m\u001b[0m\u001b[0m\n",
      "\u001b[0;31mNameError\u001b[0m: name 'stable_dist' is not defined"
     ]
    },
    {
     "data": {
      "image/png": "[encoded data removed]",
      "text/plain": [
       "<Figure size 432x288 with 1 Axes>"
      ]
     },
     "metadata": {
      "needs_background": "light"
     },
     "output_type": "display_data"
    }
   ],
   "source": [
    "# We compare the energy distribution observed directly in data...\n",
    "ts_energies = double_well.energy(time_series) \n",
    "plt.title(\"Observed energy distribution\")\n",
    "plt.hist(ts_energies, density=True, bins=N_CLUSTERS, range=[0, 2])\n",
    "plt.ylabel(\"P(E)\")\n",
    "plt.xlabel(\"E\")\n",
    "plt.show()\n",
    "\n",
    "ts_avg_energy = np.mean(ts_energies)\n",
    "\n",
    "# ...with the distribution from the transfer matrix...\n",
    "tm_energies = double_well.energy(cluster_centers)\n",
    "plt.title(\"Stationary distribution of the transfer matrix\")\n",
    "plt.hist(tm_energies, density=True, bins=N_CLUSTERS, weights=stable_dist, range=[0, 2])\n",
    "plt.ylabel(\"P(E)\")\n",
    "plt.xlabel(\"E\")\n",
    "plt.show()\n",
    "\n",
    "tm_avg_energy = np.mean(stable_dist @ tm_energies)\n",
    "\n",
    "# ...and against the theoretical distribution.\n",
    "probs = double_well.boltzmann_probs(cluster_centers)\n",
    "theoretical_energies = double_well.energy(cluster_centers) \n",
    "\n",
    "plt.title(\"Theoretical energy distribution\")\n",
    "plt.hist(theoretical_energies, density=True, bins=N_CLUSTERS, weights=probs, range=[0, 2])\n",
    "plt.ylabel(\"P(E)\")\n",
    "plt.xlabel(\"E\")\n",
    "plt.show()\n",
    "\n",
    "theoretical_avg_energy = np.mean(probs @ theoretical_energies)\n",
    "\n"
   ]
  },
  {
   "cell_type": "markdown",
   "metadata": {},
   "source": [
    "### Energy\n",
    "\n",
    "It would have been nice if we could have applied the equipartition theorem to compare the average energy levels to observed (in which case we would expect $\\langle E\\rangle=KT/2$).\n",
    "\n",
    "However, in the overdamped limit, we don't have quartic dofs, so we have to compute the expected energy exactly (numerically).\n",
    "\n",
    "$$\\langle E\\rangle = \\int_{-\\infty}^{\\infty}V(x) P(x)dx ,$$\n",
    "where $V(x)=-x^2+x^4$, $P(x)=e^{-\\beta V(x)}/Z$, and $Z=\\int_{-\\infty}^{\\infty} e^{-\\beta V(x)}dx$.\n"
   ]
  },
  {
   "cell_type": "code",
   "execution_count": null,
   "metadata": {},
   "outputs": [],
   "source": [
    "# And compare the average energy.\n",
    "print(f\"The average energy of the particle from the time series is {ts_avg_energy}\")\n",
    "print(f\"The average energy of the particle from the transfer operator is {tm_avg_energy}\")\n",
    "print(f\"The theoretical energy of the particle is (check) {theoretical_avg_energy}\")\n",
    "print(f\"The theoretical energy is (as given by the numerical integration of above): {double_well.avg_energy}\")\n"
   ]
  },
  {
   "cell_type": "code",
   "execution_count": null,
   "metadata": {},
   "outputs": [],
   "source": [
    "betas =[0.05,0.1,0.5, 1, 2, 3, 5, 8]\n",
    "measured_energies = np.zeros(len(betas))\n",
    "matrix_energies = np.zeros(len(betas))\n",
    "theoretical_energies= np.zeros(len(betas))\n",
    "\n",
    "TIMESTEP = 0.01\n",
    "N_STEPS = 1000000\n",
    "for i, beta in enumerate(betas):\n",
    "    dw = DoubleWell(beta=beta, timestep=TIMESTEP, is_overdamped=True)\n",
    "    traj = dw.run(n_steps=N_STEPS, n_burn_in=N_BURNIN_STEPS)\n",
    "    matrix = TransferOperator(labeling_method=\"uniform\", n_clusters=N_CLUSTERS)\n",
    "    matrix.fit(traj, n_future_timesteps=TRANSITION_TIMESCALE,k=50)\n",
    "    \n",
    "    cluster_centers = matrix.cluster_centers\n",
    "    cluster_energies = dw.energy(cluster_centers)\n",
    "    stable_dist = np.abs(matrix.eigvecs[:,0])/ np.sum(np.abs(matrix.eigvecs[:, 0]))\n",
    "    \n",
    "    measured_energies[i] = np.mean(dw.energy(traj))\n",
    "    matrix_energies[i] = np.mean(stable_dist @ cluster_energies)\n",
    "    theoretical_energies[i] = dw.avg_energy\n",
    "\n",
    "plt.title(\"$\\langle E \\\\rangle$ with $\\\\beta$ ($\\\\tau=1$)\")\n",
    "plt.yscale('log')\n",
    "plt.xscale('log')\n",
    "\n",
    "plt.plot(betas, theoretical_energies, label=\"Numerical solution\")\n",
    "plt.plot(betas, measured_energies, label=\"Directly from data\")\n",
    "plt.plot(betas, matrix_energies, label=\"Transfer Matrix\")\n",
    "plt.legend(title=\"Source\")\n",
    "plt.xlabel(\"$\\\\beta$\")\n",
    "plt.ylabel(\"$\\langle E \\\\rangle$\")\n",
    "plt.show()\n",
    "\n",
    "plt.title(\"Error in $\\langle E \\\\rangle$ with $\\\\beta$ ($\\\\tau=1$)\")\n",
    "traj_errors = np.abs(measured_energies - theoretical_energies)/theoretical_energies * 100\n",
    "matrix_errors = np.abs(matrix_energies - theoretical_energies)/theoretical_energies * 100\n",
    "\n",
    "plt.plot(betas, traj_errors, label=\"From data\")\n",
    "plt.plot(betas, matrix_errors, label=\"Transfer matrix\")\n",
    "plt.legend(title=\"Source\")\n",
    "plt.xlabel(\"$\\\\beta$\")\n",
    "plt.ylabel(\"Relative error (\\%)\") \n",
    "plt.show()\n"
   ]
  },
  {
   "cell_type": "markdown",
   "metadata": {},
   "source": [
    "### Convergence\n",
    "\n",
    "We make sure we've included enough burn in samples and that the running average energy isn't fluctuating too wildly."
   ]
  },
  {
   "cell_type": "code",
   "execution_count": null,
   "metadata": {},
   "outputs": [],
   "source": [
    "# running_avg_energy = double_well.running_avg(\n",
    "#   time_series, \n",
    "#     double_well.energy,\n",
    "#     window_size=5000,\n",
    "#     step_size=1000,\n",
    "#     verbose=True\n",
    "# )\n",
    "\n",
    "# plt.plot(running_avg_energy)\n"
   ]
  },
  {
   "cell_type": "markdown",
   "metadata": {},
   "source": [
    "### Eigenvalue spectrum & Timescale separation"
   ]
  },
  {
   "cell_type": "code",
   "execution_count": null,
   "metadata": {},
   "outputs": [],
   "source": [
    "print(\"FROM KRAMER'S RATE THEORY\")\n",
    "print(\"\\n\\tSTARTING AT X=0\")\n",
    "print(f\"\\tFirst Passage Time (-inf to 0) {double_well.first_passage_time(-1)}\")\n",
    "\n",
    "print('\\n\\tAVG OVER THE IVL')\n",
    "print(f\"\\tFirst Passage Time (-inf to 0) {double_well.avg_first_passage_time()}\")\n",
    "\n",
    "print(\"\\nFROM TRAJECTORIES DIRECTLY\\n\")\n",
    "print(f\"\\tFirst Passage Time (-inf to 0) {double_well.measure_first_passage_time(time_series)* DOWNSAMPLE_RATE}\")\n",
    "\n",
    "print(\"\\nFROM TRANSFER MATRIX\\n\")\n",
    "# print(f\"Max eigval {eigvals[1]} and inverse {1./eigvals[1]}\")\n",
    "print(f\"\\tMax timescale {double_well.get_timescale(eigvals[1], multiplier=DOWNSAMPLE_RATE)}\")\n",
    "\n",
    "#transition_times= np.zeros(1000)\n",
    "\n",
    "#for i in range(1, 1001):\n",
    "#    transition_times[i-1] = double_well.transition_time(time_series, i)\n",
    "\n",
    "#plt.plot(transition_times)"
   ]
  },
  {
   "cell_type": "code",
   "execution_count": null,
   "metadata": {
    "scrolled": true
   },
   "outputs": [],
   "source": [
    "betas =[0.05,0.1,0.5, 1, 2, 3, 5, 8]\n",
    "theoretical_times = np.zeros(len(betas))\n",
    "trajectory_times =  np.zeros(len(betas))\n",
    "matrix_times =  np.zeros(len(betas))\n",
    "\n",
    "TIMESTEP = 0.01\n",
    "N_STEPS = 1000000\n",
    "for i, beta in enumerate(betas):\n",
    "    dw = DoubleWell(beta=beta, timestep=TIMESTEP, is_overdamped=True)\n",
    "    traj = dw.run(n_steps=N_STEPS, n_burn_in=N_BURNIN_STEPS)\n",
    "    matrix = TransferOperator(labeling_method=\"uniform\", n_clusters=N_CLUSTERS)\n",
    "    matrix.fit(traj, n_future_timesteps=TRANSITION_TIMESCALE,k=50)\n",
    "    theoretical_times[i] = dw.avg_first_passage_time()\n",
    "    trajectory_times[i]=dw.measure_first_passage_time(traj)\n",
    "    matrix_times[i]=dw.get_timescale(matrix.eigvals[1])\n",
    "    #print(f\"First Passage Time\\t(-inf to 0) {theoretical_times[i]}\")\n",
    "    #print(f\"Trajectory Passage Time\\t(-inf to 0) {trajectory_times[i]}\")\n",
    "    # print(f\"Max timescale\\t\\t{matrix_times[i]}\")\n",
    "\n",
    "plt.title(\"Timescale scaling with $\\\\beta$ ($\\\\tau=1$)\")\n",
    "plt.yscale('log')\n",
    "plt.plot(betas, theoretical_times, label=\"Kramers\")\n",
    "plt.plot(betas, trajectory_times, label=\"Directly from data\")\n",
    "plt.plot(betas, matrix_times, label=\"Transfer Matrix\")\n",
    "plt.legend(title=\"Source\")\n",
    "plt.xlabel(\"$\\\\beta$\")\n",
    "plt.ylabel(\"$t_{imp}$\")\n",
    "plt.show()\n",
    "\n",
    "plt.title(\"Error with $\\\\beta$ ($\\\\tau=1$)\")\n",
    "traj_errors = np.abs(trajectory_times - theoretical_times)/theoretical_times * 100\n",
    "matrix_errors = np.abs(matrix_times - theoretical_times)/theoretical_times * 100\n",
    "\n",
    "plt.plot(betas[1:], traj_errors[1:], label=\"From data\")\n",
    "plt.plot(betas[1:], matrix_errors[1:], label=\"Transfer matrix\")\n",
    "plt.legend(title=\"Source\")\n",
    "plt.xlabel(\"$\\\\beta$\")\n",
    "plt.ylabel(\"Relative error (\\%)\") \n",
    "plt.show()\n",
    "\n"
   ]
  },
  {
   "cell_type": "code",
   "execution_count": null,
   "metadata": {},
   "outputs": [],
   "source": [
    "timesteps = [0.05, 0.01, 0.001, 0.0001]\n",
    "theoretical_times = np.zeros(len(timesteps))\n",
    "trajectory_times =  np.zeros(len(timesteps))\n",
    "matrix_times =  np.zeros(len(timesteps))\n",
    "\n",
    "BETA = 1\n",
    "N_STEPS = 1000000\n",
    "for i, timestep in enumerate(timesteps):\n",
    "    dw = DoubleWell(beta=BETA, timestep=timestep, is_overdamped=True)\n",
    "    traj = dw.run(n_steps=N_STEPS, n_burn_in=N_BURNIN_STEPS)\n",
    "    matrix = TransferOperator(labeling_method=\"uniform\", n_clusters=N_CLUSTERS)\n",
    "    matrix.fit(traj, n_future_timesteps=TRANSITION_TIMESCALE,k=50)\n",
    "    theoretical_times[i] = dw.avg_first_passage_time()\n",
    "    trajectory_times[i]=dw.measure_first_passage_time(traj)\n",
    "    matrix_times[i]=dw.get_timescale(matrix.eigvals[1])\n",
    "\n",
    "plt.title(f\"Timescale scaling with $\\Delta t$ ($\\\\beta = {BETA}$)\")\n",
    "plt.xscale('log')\n",
    "plt.plot(timesteps, theoretical_times, label=\"Kramers\")\n",
    "plt.plot(timesteps, trajectory_times, label=\"Directly from data\")\n",
    "plt.plot(timesteps, matrix_times, label=\"Transfer Matrix\")\n",
    "plt.legend(title=\"Source\")\n",
    "plt.xlabel(\"$\\Delta t$\")\n",
    "plt.ylabel(\"$t_{imp}$\")\n",
    "plt.show()\n"
   ]
  },
  {
   "cell_type": "code",
   "execution_count": null,
   "metadata": {},
   "outputs": [],
   "source": [
    "timesteps = [0.05, 0.01, 0.001, 0.0001]\n",
    "theoretical_times = np.zeros(len(timesteps))\n",
    "trajectory_times =  np.zeros(len(timesteps))\n",
    "matrix_times =  np.zeros(len(timesteps))\n",
    "\n",
    "BETA = 5\n",
    "N_STEPS = 1000000\n",
    "for i, timestep in enumerate(timesteps):\n",
    "    dw = DoubleWell(beta=BETA, timestep=timestep, is_overdamped=True)\n",
    "    traj = dw.run(n_steps=N_STEPS, n_burn_in=N_BURNIN_STEPS)\n",
    "    matrix = TransferOperator(labeling_method=\"uniform\", n_clusters=N_CLUSTERS)\n",
    "    matrix.fit(traj, n_future_timesteps=TRANSITION_TIMESCALE,k=50)\n",
    "    theoretical_times[i] = dw.avg_first_passage_time()\n",
    "    trajectory_times[i]=dw.measure_first_passage_time(traj)\n",
    "    matrix_times[i]=dw.get_timescale(matrix.eigvals[1])\n",
    "    print(f\"First Passage Time\\t(-inf to 0) {theoretical_times[i]}\")\n",
    "    print(f\"Trajectory Passage Time\\t(-inf to 0) {trajectory_times[i]}\")\n",
    "    print(f\"Max timescale\\t\\t{matrix_times[i]}\")\n",
    "\n",
    "plt.title(f\"Timescale scaling with $\\Delta t$ ($\\\\beta = {BETA}$)\")\n",
    "plt.xscale('log')\n",
    "plt.plot(timesteps, theoretical_times, label=\"Kramers\")\n",
    "plt.plot(timesteps, trajectory_times, label=\"Directly from data\")\n",
    "plt.plot(timesteps, matrix_times, label=\"Transfer Matrix\")\n",
    "plt.legend(title=\"Source\")\n",
    "plt.xlabel(\"$\\Delta t$\")\n",
    "plt.ylabel(\"$t_{imp}$\")\n",
    "plt.show()"
   ]
  },
  {
   "cell_type": "code",
   "execution_count": null,
   "metadata": {},
   "outputs": [],
   "source": [
    "RATE = 1\n",
    "TIMESTEP = 0.01\n",
    "BETAS = [0.05, 0.1, 0.5, 1, 2, 3, 5, 8]\n",
    "TIMESTEP = 0.01\n",
    "N_STEPS = 1000000\n",
    "plot_eigval_spectra_with_betas(BETAS, RATE, TIMESTEP, N_STEPS, N_BURNIN_STEPS, N_CLUSTERS)"
   ]
  },
  {
   "cell_type": "code",
   "execution_count": null,
   "metadata": {},
   "outputs": [],
   "source": [
    "RATES = [1, 10, 50, 100, 200]\n",
    "BETA = 0.1\n",
    "TIMESTEP = 0.01\n",
    "N_STEPS = 1000000\n",
    "plot_eigval_spectra_with_rates(RATES, BETA, TIMESTEP, N_STEPS, N_BURNIN_STEPS, N_CLUSTERS)"
   ]
  },
  {
   "cell_type": "code",
   "execution_count": null,
   "metadata": {},
   "outputs": [],
   "source": [
    "RATES = [1, 10, 50, 100, 200]\n",
    "BETA = 5\n",
    "TIMESTEP = 0.01\n",
    "N_STEPS = 1000000\n",
    "plot_eigval_spectra_with_rates(RATES, BETA, TIMESTEP, N_STEPS, N_BURNIN_STEPS, N_CLUSTERS)"
   ]
  },
  {
   "cell_type": "code",
   "execution_count": null,
   "metadata": {},
   "outputs": [],
   "source": [
    "RATES = [1, 10, 50, 100, 200]\n",
    "BETA = 2\n",
    "TIMESTEP = 0.01\n",
    "N_STEPS = 1000000\n",
    "plot_eigval_spectra_with_rates(RATES, BETA, TIMESTEP, N_STEPS, N_BURNIN_STEPS, N_CLUSTERS)\n"
   ]
  },
  {
   "cell_type": "code",
   "execution_count": null,
   "metadata": {},
   "outputs": [],
   "source": [
    "RATES = [1, 10, 50, 100, 200]\n",
    "BETA = 2\n",
    "TIMESTEP = 0.01\n",
    "N_STEPS = 100000\n",
    "   \n",
    "plot_eigval_spectra_with_downsampling(RATES, BETA, TIMESTEP, N_STEPS, N_BURNIN_STEPS, N_CLUSTERS)"
   ]
  },
  {
   "cell_type": "markdown",
   "metadata": {},
   "source": [
    "### Timescale convergence"
   ]
  },
  {
   "cell_type": "code",
   "execution_count": null,
   "metadata": {},
   "outputs": [],
   "source": [
    "raise ValueError\n",
    "N_CLUSTERS_LIST = [10, 100, 400]\n",
    "TRANSITION_TIMES = range(1, 20, 4)\n",
    "\n",
    "plot_t_imp_scaling(time_series, \n",
    "                   1, \n",
    "                   n_clusters_list=N_CLUSTERS_LIST, \n",
    "                   transition_times=TRANSITION_TIMES,\n",
    "                   timestep=TIMESTEP/DOWNSAMPLE_RATE)"
   ]
  },
  {
   "cell_type": "code",
   "execution_count": null,
   "metadata": {
    "slideshow": {
     "slide_type": "-"
    }
   },
   "outputs": [],
   "source": [
    "cluster_centers = transfer_operator.cluster_centers\n",
    "eigvals, eigvecs = eigsort(transfer_operator.forward_matrix.T, eig_method=\"np\")\n",
    "eigvals_b, eigvecs_b = eigsort(transfer_operator.balanced_matrix.T, eig_method=\"np\")\n",
    "\n",
    "plt.hist(cluster_centers,weights=eigvecs[:, 0], bins=100, density=True)\n",
    "plt.show()\n",
    "plt.hist(cluster_centers,weights=eigvecs_b[:, 1], bins=100, density=True)\n",
    "plt.show()"
   ]
  },
  {
   "cell_type": "code",
   "execution_count": null,
   "metadata": {},
   "outputs": [],
   "source": [
    "RATES = [1, 2, 5, 5000, 10000, 20000]\n",
    "BETA = 5\n",
    "TIMESTEP = 0.0001\n",
    "N_STEPS = 10000000\n",
    "display(Latex(f\"$\\Delta t = {TIMESTEP}$\"))\n",
    "plot_eigval_spectra_with_rates(RATES, BETA, TIMESTEP, N_STEPS, N_BURNIN_STEPS, 100, inset_pos=(.6, .3))\n",
    "plot_eigval_spectra_with_rates(RATES, BETA, TIMESTEP, N_STEPS, N_BURNIN_STEPS, 200, inset_pos=(.6, .3))\n",
    "plot_eigval_spectra_with_rates(RATES, BETA, TIMESTEP, N_STEPS, N_BURNIN_STEPS, 500, inset_pos=(.6, .3))"
   ]
  },
  {
   "cell_type": "code",
   "execution_count": 73,
   "metadata": {},
   "outputs": [
    {
     "data": {
      "text/latex": [
       "\\Delta t = 0.001"
      ],
      "text/plain": [
       "<IPython.core.display.Latex object>"
      ]
     },
     "metadata": {},
     "output_type": "display_data"
    },
    {
     "name": "stderr",
     "output_type": "stream",
     "text": [
      "Burning in: 100%|██████████| 1000/1000 [00:00<00:00, 31658.47it/s]\n",
      "Generating samples: 100%|██████████| 10000000/10000000 [04:04<00:00, 40820.44it/s]\n",
      "<ipython-input-73-025565cbd0b0>:15: ComplexWarning: Casting complex values to real discards the imaginary part\n",
      "  eigenvalues[i,:] = matrix.eigvals[1:1+N_EIGVALS]\n"
     ]
    },
    {
     "data": {
      "image/png": "[encoded data removed]",
      "text/plain": [
       "<Figure size 432x288 with 1 Axes>"
      ]
     },
     "metadata": {
      "needs_background": "light"
     },
     "output_type": "display_data"
    }
   ],
   "source": [
    "RATES = [1, 2, 5, 10, 20, 50, 100, 200, 500, 1000, 2000, 5000, 10000,20000]\n",
    "BETA = 2\n",
    "TIMESTEP = 0.001\n",
    "N_STEPS = 10000000\n",
    "display(Latex(f\"\\Delta t = {TIMESTEP}\"))\n",
    "\n",
    "N_EIGVALS = 5\n",
    "eigenvalues = np.zeros((len(RATES), N_EIGVALS))\n",
    "\n",
    "for i, rate in enumerate(RATES):\n",
    "    dw = DoubleWell(beta=BETA, timestep=TIMESTEP, is_overdamped=True)\n",
    "    traj = dw.run(n_steps=N_STEPS, n_burn_in=N_BURNIN_STEPS)\n",
    "    matrix = TransferOperator(labeling_method=\"uniform\", n_clusters=N_CLUSTERS)\n",
    "    matrix.fit(traj, n_future_timesteps=rate,k=50)\n",
    "    eigenvalues[i,:] = matrix.eigvals[1:1+N_EIGVALS]\n",
    "    \n",
    "for i in range(N_EIGVALS):\n",
    "    plt.plot(np.array(RATES)* TIMESTEP, eigenvalues[:,i], label=i)\n",
    "    \n",
    "plt.title(f\"Eigenvalue scaling with $\\\\tau$\")\n",
    "plt.xscale(\"log\")\n",
    "plt.legend(title=\"Eigenvalue index\")\n",
    "plt.xlabel(\"$\\\\tau \\cdot \\Delta t$\")\n",
    "plt.ylabel(\"$\\lambda_i$\")\n",
    "plt.show()\n"
   ]
  },
  {
   "cell_type": "code",
   "execution_count": null,
   "metadata": {},
   "outputs": [],
   "source": []
  },
  {
   "cell_type": "code",
   "execution_count": null,
   "metadata": {},
   "outputs": [],
   "source": []
  },
  {
   "cell_type": "code",
   "execution_count": null,
   "metadata": {},
   "outputs": [],
   "source": []
  },
  {
   "cell_type": "code",
   "execution_count": null,
   "metadata": {},
   "outputs": [],
   "source": []
  }
 ],
 "metadata": {
  "kernelspec": {
   "display_name": "Python 3",
   "language": "python",
   "name": "python3"
  },
  "language_info": {
   "codemirror_mode": {
    "name": "ipython",
    "version": 3
   },
   "file_extension": ".py",
   "mimetype": "text/x-python",
   "name": "python",
   "nbconvert_exporter": "python",
   "pygments_lexer": "ipython3",
   "version": "3.8.6"
  }
 },
 "nbformat": 4,
 "nbformat_minor": 2
}
